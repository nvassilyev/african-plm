{
 "cells": [
  {
   "cell_type": "code",
   "execution_count": 1,
   "metadata": {},
   "outputs": [
    {
     "name": "stderr",
     "output_type": "stream",
     "text": [
      "/home/opc/miniconda3/lib/python3.10/site-packages/tqdm/auto.py:22: TqdmWarning: IProgress not found. Please update jupyter and ipywidgets. See https://ipywidgets.readthedocs.io/en/stable/user_install.html\n",
      "  from .autonotebook import tqdm as notebook_tqdm\n"
     ]
    }
   ],
   "source": [
    "import torch\n",
    "import sentencepiece as spm\n",
    "from transformers import XLMRobertaTokenizer, AutoModelForMaskedLM, AutoTokenizer\n",
    "from tokenizers import SentencePieceBPETokenizer\n",
    "from pathlib import Path\n",
    "from datasets import load_dataset"
   ]
  },
  {
   "cell_type": "code",
   "execution_count": 3,
   "metadata": {},
   "outputs": [],
   "source": [
    "xmod_75 = AutoModelForMaskedLM.from_pretrained(\"facebook/xmod-base-75-269k\")\n",
    "xmod_75.save_pretrained(\"../models/xmod_75\")"
   ]
  },
  {
   "cell_type": "code",
   "execution_count": null,
   "metadata": {},
   "outputs": [],
   "source": [
    "# initialize embeddings for new yoruba tokens\n",
    "# https://github.com/huggingface/transformers/issues/1413\n",
    "\n",
    "tokenizer = XLMRobertaTokenizer.from_pretrained('xlm-roberta-base')\n",
    "old_vocab = tokenizer.get_vocab()\n",
    "new_vocab = XLMRobertaTokenizer('../vocab/spm.yoruba.model').get_vocab()\n",
    "\n",
    "non_overlap = list(set(new_vocab.keys()) - set(old_vocab.keys()))\n",
    "print(\"Non overlapping tokens: \", len(non_overlap))\n",
    "\n",
    "tokenizer.add_tokens(non_overlap)\n",
    "print(\"New vocab size with added tokens: \", len(tokenizer.get_vocab()))\n",
    "xmod_75.resize_token_embeddings(len(tokenizer.get_vocab()))\n",
    "\n",
    "print(non_overlap)"
   ]
  },
  {
   "cell_type": "code",
   "execution_count": 7,
   "metadata": {},
   "outputs": [
    {
     "data": {
      "text/plain": [
       "('../swissbert/tokenizer/tokenizer_config.json',\n",
       " '../swissbert/tokenizer/special_tokens_map.json',\n",
       " '../swissbert/tokenizer/sentencepiece.bpe.model',\n",
       " '../swissbert/tokenizer/added_tokens.json')"
      ]
     },
     "execution_count": 7,
     "metadata": {},
     "output_type": "execute_result"
    }
   ],
   "source": [
    "tokenizer.save_pretrained(\"../swissbert/tokenizer\")"
   ]
  },
  {
   "cell_type": "code",
   "execution_count": 8,
   "metadata": {},
   "outputs": [
    {
     "name": "stdout",
     "output_type": "stream",
     "text": [
      "Tokens: ['awọn', '▁niti', 'lati']\n",
      "Input IDs: [262533, 23311, 43602]\n"
     ]
    }
   ],
   "source": [
    "# test\n",
    "\n",
    "input_text = \"awọnnitilati\"\n",
    "tokens = tokenizer.tokenize(input_text)\n",
    "input_ids = tokenizer.convert_tokens_to_ids(tokens)\n",
    "\n",
    "print(\"Tokens:\", tokens)\n",
    "print(\"Input IDs:\", input_ids)"
   ]
  },
  {
   "cell_type": "code",
   "execution_count": 4,
   "metadata": {},
   "outputs": [],
   "source": [
    "# add new adapter for yoruba\n",
    "\n",
    "from adapter import XmodAdapter\n",
    "\n",
    "model = xmod_75\n",
    "new_lang = 'yo_XX'\n",
    "\n",
    "for i in range(model.config.num_hidden_layers):\n",
    "    new_adapter = XmodAdapter(model.config)\n",
    "    model.roberta.encoder.layer[i].output.adapter_modules[new_lang] = new_adapter\n",
    "\n",
    "if new_lang not in model.config.languages:\n",
    "    model.config.languages.append(new_lang)"
   ]
  },
  {
   "cell_type": "code",
   "execution_count": 36,
   "metadata": {},
   "outputs": [
    {
     "data": {
      "text/plain": [
       "('../models/phase1_yoruba/tokenizer_config.json',\n",
       " '../models/phase1_yoruba/special_tokens_map.json',\n",
       " '../models/phase1_yoruba/sentencepiece.bpe.model',\n",
       " '../models/phase1_yoruba/added_tokens.json')"
      ]
     },
     "execution_count": 36,
     "metadata": {},
     "output_type": "execute_result"
    }
   ],
   "source": [
    "# Save models\n",
    "import os\n",
    "dir = '../models/phase1_yoruba'\n",
    "\n",
    "if not os.path.exists(dir):\n",
    "    os.makedirs(dir)\n",
    "\n",
    "model.save_pretrained(dir)\n",
    "tokenizer.save_pretrained(dir)\n"
   ]
  },
  {
   "cell_type": "code",
   "execution_count": null,
   "metadata": {},
   "outputs": [],
   "source": [
    "def freeze_shared_layers(model):\n",
    "    # freeze everything\n",
    "    for parameter in model.parameters():\n",
    "        parameter.requires_grad = False\n",
    "\n",
    "    # unfreeze embeddings and adapters    \n",
    "    for parameter in model.roberta.embeddings.parameters():\n",
    "        parameter.requires_grad = True\n",
    "    for layer in model.roberta.encoder.layer:\n",
    "        if layer.output.adapter_layer_norm is not None:\n",
    "            for parameter in layer.output.adapter_layer_norm.parameters():\n",
    "                parameter.requires_grad = True\n",
    "        for parameter in layer.output.adapter_modules.parameters():\n",
    "            parameter.requires_grad = True\n",
    "\n",
    "\n",
    "freeze_shared_layers(model)\n",
    "# for name, param in model.named_parameters():\n",
    "#     print(name, param.requires_grad)"
   ]
  }
 ],
 "metadata": {
  "kernelspec": {
   "display_name": "base",
   "language": "python",
   "name": "python3"
  },
  "language_info": {
   "codemirror_mode": {
    "name": "ipython",
    "version": 3
   },
   "file_extension": ".py",
   "mimetype": "text/x-python",
   "name": "python",
   "nbconvert_exporter": "python",
   "pygments_lexer": "ipython3",
   "version": "3.10.9"
  },
  "orig_nbformat": 4
 },
 "nbformat": 4,
 "nbformat_minor": 2
}
